{
  "nbformat": 4,
  "nbformat_minor": 0,
  "metadata": {
    "colab": {
      "name": "4.1 -FusionTablesConcaténation_1.ipynb",
      "provenance": [],
      "toc_visible": true
    },
    "kernelspec": {
      "name": "python3",
      "display_name": "Python 3"
    }
  },
  "cells": [
    {
      "cell_type": "markdown",
      "metadata": {
        "id": "NiQkPkDW2ZRP",
        "colab_type": "text"
      },
      "source": [
        "# 4.1 FUSION DE TABLES PAR CONCATENATION (1/2)\n",
        "\n",
        "\n",
        "\n"
      ]
    },
    {
      "cell_type": "markdown",
      "metadata": {
        "id": "Z-D1X8Kr3pEK",
        "colab_type": "text"
      },
      "source": [
        "## **Texte officiel**"
      ]
    },
    {
      "cell_type": "markdown",
      "metadata": {
        "id": "-G8FJtKI2m6I",
        "colab_type": "text"
      },
      "source": [
        "**Contenus**\n",
        "\n",
        "Fusion de tables\n",
        "\n",
        "**Capacités attendues**\n",
        "\n",
        "Construire une nouvelle table en combinant les données de deux tables.\n",
        "\n",
        "**Commentaires**\n",
        "\n",
        "La notion de domaine de valeurs est mise en évidence."
      ]
    },
    {
      "cell_type": "markdown",
      "metadata": {
        "id": "wxejbMi-yV3j",
        "colab_type": "text"
      },
      "source": [
        "## Définir la notion de fusion de tables par concaténation"
      ]
    },
    {
      "cell_type": "markdown",
      "metadata": {
        "id": "qMXPJDaQyd8E",
        "colab_type": "text"
      },
      "source": [
        "Examinez l'illustration ci-dessous qui décrit une fusion de tables par concaténation et formulez une définition de cette notion.![Texte alternatif…](https://ent.sapiensjmh.top/svt/wp-content/uploads/FusionParConcatenation_schema.jpg)"
      ]
    },
    {
      "cell_type": "markdown",
      "metadata": {
        "id": "NBnQ9N0RzYpT",
        "colab_type": "text"
      },
      "source": [
        "*Votre réponse :*"
      ]
    },
    {
      "cell_type": "markdown",
      "metadata": {
        "id": "NvtlFnfU34ev",
        "colab_type": "text"
      },
      "source": [
        "## **Ecrire un algorithme de fusion de tables par concatenation et le programmer en Python**"
      ]
    },
    {
      "cell_type": "markdown",
      "metadata": {
        "id": "e9hYIkK1-nNl",
        "colab_type": "text"
      },
      "source": [
        "1.   **Vous disposez d'un premier fichier de données au format csv constitué de la façon suivante :**\n",
        "*Liste des prénoms des enfants nés à Angers de 2013 à 2018 avec le nombre d’occurrences de chaque prénom, classés par année et par sexe.*\n",
        "\n",
        "*Définition des en-têtes (attributs)*\n",
        "\n",
        "* COLL_NOM nom de la commune\n",
        "\n",
        "* COLL_INSEE Code Insee de la commune\n",
        "\n",
        "* ENFANT_SEXE sexe\n",
        "\n",
        "* ENFANT_PRENOM prénom\n",
        "\n",
        "* NOMBRE_OCCURRENCES occurrence du prénom\n",
        "\n",
        "* ANNEE année de naissance"
      ]
    },
    {
      "cell_type": "markdown",
      "metadata": {
        "id": "ZSWG7bDsAeUr",
        "colab_type": "text"
      },
      "source": [
        "2.   **Importez ces données dans une première table de type liste de listes en complétant le code qui suit :**\n",
        "\n",
        "* *il s'agit de remplacer les quatre '?' par ce qui convient*\n",
        "* *n'oubliez pas d'importer le fichier 'csv' dans google Colaboratory avant d'exécuter le script*"
      ]
    },
    {
      "cell_type": "code",
      "metadata": {
        "id": "woAQCgn4AYNc",
        "colab_type": "code",
        "colab": {}
      },
      "source": [
        "# Import du module csv\n",
        "import csv\n",
        "\n",
        "# Déclaration d'une variable : nommage, typage\n",
        "tablePrenoms_2013_2018=[]\n",
        "\n",
        "# Lecture des données du fichier 'prenoms-des-enfants-nes-a-angers-2013-2018.csv' et affectation à une variable temporaire 'dataTable'\n",
        "with open(?, newline='') as fichierCsv :\n",
        "  dataTable = csv.reader(?, delimiter=',')\n",
        "  # boucle bornée : affectation des valeurs de la variable temporaire 'dataTable' à la variable 'tablePrenoms_2013_2018'\n",
        "  for ligne in ? :\n",
        "    tablePrenoms_2013_2018.append(?)"
      ],
      "execution_count": 0,
      "outputs": []
    },
    {
      "cell_type": "markdown",
      "metadata": {
        "colab_type": "text",
        "id": "Ks5iTl2v462o"
      },
      "source": [
        "3.   **Vous disposez d'un second fichier de données au format csv constitué de la façon suivante :**\n",
        "*Liste des prénoms des enfants nés à Angers en 2019 avec le nombre d’occurrences de chaque prénom, classés par année et par sexe.*\n",
        "\n",
        "* les noms des en-têtes (attributs) de ce fichier sont les mêmes que ceux du premier fichier et ils sont positionnés dans le même ordre."
      ]
    },
    {
      "cell_type": "markdown",
      "metadata": {
        "colab_type": "text",
        "id": "MQEeBG5s5NsQ"
      },
      "source": [
        "4.   **Importez ces données dans une seconde table de type liste de listes en vous inspirant du code précédent.**\n",
        "\n",
        "* *la première ligne de ce fichier ne comporte pas le nom des attributs : il s'agit directement d'un premier enregistrement*\n",
        "* *n'oubliez pas d'importer le fichier 'csv' dans google Colaboratory avant d'exécuter le script*"
      ]
    },
    {
      "cell_type": "code",
      "metadata": {
        "id": "UgwlzIsI0Hxn",
        "colab_type": "code",
        "colab": {}
      },
      "source": [
        "# Ecrivez votre code ici"
      ],
      "execution_count": 0,
      "outputs": []
    },
    {
      "cell_type": "markdown",
      "metadata": {
        "id": "NnMY4C1h6V6s",
        "colab_type": "text"
      },
      "source": [
        "5. **Ecrivez l'algorithme qui permet de fusionner les deux tables créées lors des étapes précédentes puis programmez le en python.**\n",
        "* *Pour vérifier que votre programme fonctionne, faites une recherche (sélection, extraction) des enregistrements pour un prénom que vous choisirez. Assurez-vous que vous obtenez en résultat les enregistrements des années allant de 2013 à 2019.*"
      ]
    },
    {
      "cell_type": "markdown",
      "metadata": {
        "id": "a4UGLzm75JAe",
        "colab_type": "text"
      },
      "source": [
        "*Ecrivez votre algorithme ici*"
      ]
    },
    {
      "cell_type": "code",
      "metadata": {
        "id": "lAoJrmRv0MA3",
        "colab_type": "code",
        "colab": {}
      },
      "source": [
        "# Ecrivez votre code ici"
      ],
      "execution_count": 0,
      "outputs": []
    },
    {
      "cell_type": "markdown",
      "metadata": {
        "id": "V6USBr0o86d8",
        "colab_type": "text"
      },
      "source": [
        "## **Pour aller plus loin...**"
      ]
    },
    {
      "cell_type": "markdown",
      "metadata": {
        "id": "K6rHTZLj9HYS",
        "colab_type": "text"
      },
      "source": [
        "6. **Il est possible de sauvegarder une table sous la forme d'un fichier 'csv' avec le module 'csv'.**\n",
        "* *Executez le code qui suit, puis regardez quels sont les fichiers présents dans google.colaboratory*"
      ]
    },
    {
      "cell_type": "code",
      "metadata": {
        "id": "3-aSzE4B-fRA",
        "colab_type": "code",
        "colab": {}
      },
      "source": [
        "import csv\n",
        "with open('test.csv', 'w', newline='') as fichierCsv:\n",
        "    sauvegarde = csv.writer(fichierCsv, delimiter=' ')\n",
        "    sauvegarde.writerow(['str', 'int', 'float'])\n",
        "    sauvegarde.writerow(['P', 45, 1.245])\n",
        "    sauvegarde.writerow(['J', 12, 6.378])\n",
        "    sauvegarde.writerow(['M', 33, 2.462])\n",
        "    sauvegarde.writerow(['T', 99, 9.516])\n",
        "print('Ok ! Sauvegarde terminée.')"
      ],
      "execution_count": 0,
      "outputs": []
    },
    {
      "cell_type": "markdown",
      "metadata": {
        "id": "FomJw-3fBsns",
        "colab_type": "text"
      },
      "source": [
        "7. **Ecrivez maintenant les instructions qui vont vous permettre de sauvegarder le fichier \"fusionné\" des prénoms.**"
      ]
    },
    {
      "cell_type": "code",
      "metadata": {
        "id": "7oSHOfm90SN0",
        "colab_type": "code",
        "colab": {}
      },
      "source": [
        "# Ecrivez votre code ici"
      ],
      "execution_count": 0,
      "outputs": []
    }
  ]
}