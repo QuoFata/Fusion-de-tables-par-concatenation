{
  "nbformat": 4,
  "nbformat_minor": 0,
  "metadata": {
    "colab": {
      "name": "4.1 - FusionTablesConcaténation_2.ipynb",
      "provenance": [],
      "toc_visible": true
    },
    "kernelspec": {
      "name": "python3",
      "display_name": "Python 3"
    }
  },
  "cells": [
    {
      "cell_type": "markdown",
      "metadata": {
        "id": "S1C1ru3SaE7-",
        "colab_type": "text"
      },
      "source": [
        "# 4.1 - Fusion de tables par concaténation (2/2)"
      ]
    },
    {
      "cell_type": "markdown",
      "metadata": {
        "id": "Ksrv2gxNyZ90",
        "colab_type": "text"
      },
      "source": [
        "## Pré-requis et Objectifs"
      ]
    },
    {
      "cell_type": "markdown",
      "metadata": {
        "id": "mWfiOcbPyfCm",
        "colab_type": "text"
      },
      "source": [
        "### Pré-requis"
      ]
    },
    {
      "cell_type": "markdown",
      "metadata": {
        "id": "AfKYMxLrynB8",
        "colab_type": "text"
      },
      "source": [
        "*   Notion de fonction (définition en Python), d'argument, de passage d'argument"
      ]
    },
    {
      "cell_type": "markdown",
      "metadata": {
        "id": "KLgv2R-Ty8-3",
        "colab_type": "text"
      },
      "source": [
        "### Objectifs"
      ]
    },
    {
      "cell_type": "markdown",
      "metadata": {
        "id": "2gp1W6sczAxP",
        "colab_type": "text"
      },
      "source": [
        "1.   Première approche de la notion de complexité d'un algorithme\n",
        "2.   Notion de coût en mémoire\n",
        "3.   Notion de programmation modulaire"
      ]
    },
    {
      "cell_type": "markdown",
      "metadata": {
        "id": "3W9J9Xa_0LbX",
        "colab_type": "text"
      },
      "source": [
        "## Consignes et travail à réaliser"
      ]
    },
    {
      "cell_type": "markdown",
      "metadata": {
        "id": "AAD4zoOX3N7D",
        "colab_type": "text"
      },
      "source": [
        "### Réduction de la complexité d'un algorithme\n",
        "\n"
      ]
    },
    {
      "cell_type": "markdown",
      "metadata": {
        "id": "Io4JjpvdalK2",
        "colab_type": "text"
      },
      "source": [
        "#### A - Examinez la solution algorithmique n°1, testez la."
      ]
    },
    {
      "cell_type": "code",
      "metadata": {
        "id": "mbGNxUwRarP0",
        "colab_type": "code",
        "colab": {}
      },
      "source": [
        "# Import du module csv\n",
        "import csv\n",
        "\n",
        "# Déclaration de variables : nommage, typage\n",
        "tablePrenoms_2013_2018=[]\n",
        "tablePrenoms_2019=[]\n",
        "tablePrenoms_2013_2019=[]\n",
        "\n",
        "# Lecture des données du fichier 'prenoms-des-enfants-nes-a-angers-2013-2018.csv' et affectation à une variable temporaire 'dataTable'\n",
        "with open('prenoms-des-enfants-nes-a-angers-2013-2018.csv', newline='') as fichierCsv :\n",
        "  dataTable = csv.reader(fichierCsv, delimiter=',')\n",
        "  # boucle bornée : affectation des valeurs de la variable temporaire 'dataTable' à la variable 'tablePrenoms_2013_2018'\n",
        "  for ligne in dataTable :\n",
        "    tablePrenoms_2013_2018.append(ligne)\n",
        "\n",
        "# Lecture des données du fichier 'prenoms-des-enfants-nes-a-angers-2019.csv' et affectation à une variable temporaire 'dataTable'\n",
        "with open('prenoms-des-enfants-nes-a-angers-2019.csv', newline='') as fichierCsv :\n",
        "  dataTable = csv.reader(fichierCsv, delimiter=',')\n",
        "  # boucle bornée : affectation des valeurs de la variable temporaire 'dataTable' à la variable 'tablePrenoms_2019'\n",
        "  for ligne in dataTable :\n",
        "    tablePrenoms_2019.append(ligne)\n",
        "\n",
        "# Fusion des deux tables. Remarque : le signe \"plus\" (+) n'est pas une addition mathématique, mais une concaténation \n",
        "tablePrenoms_2013_2019 = tablePrenoms_2013_2018 + tablePrenoms_2019\n",
        "\n",
        "# Script de contrôle... \n",
        "prenom=input(\"Saisissez le prénom de votre choix :\")\n",
        "print(\"\\n Contrôle n°1 \\n\")\n",
        "for k in range(1,len(tablePrenoms_2013_2019)):\n",
        "  if tablePrenoms_2013_2019[k][3] == prenom :\n",
        "    print(tablePrenoms_2013_2019[k])"
      ],
      "execution_count": 0,
      "outputs": []
    },
    {
      "cell_type": "markdown",
      "metadata": {
        "id": "qwSt4WxcbhIU",
        "colab_type": "text"
      },
      "source": [
        "#### B - Examinez la solution algorithmique n°2. Comparez la à la première."
      ]
    },
    {
      "cell_type": "code",
      "metadata": {
        "id": "RxkIrqLJb08O",
        "colab_type": "code",
        "colab": {}
      },
      "source": [
        "# Déclaration de variables : nommage, typage\n",
        "tablePrenoms_2013_2018=[]\n",
        "tablePrenoms_2019=[]\n",
        "\n",
        "# Lecture des données du fichier 'prenoms-des-enfants-nes-a-angers-2013-2018.csv' et affectation à une variable temporaire 'dataTable'\n",
        "with open('prenoms-des-enfants-nes-a-angers-2013-2018.csv', newline='') as fichierCsv :\n",
        "  dataTable = csv.reader(fichierCsv, delimiter=',')\n",
        "  # boucle bornée : affectation des valeurs de la variable temporaire 'dataTable' à la variable 'tablePrenoms_2013_2018'\n",
        "  for ligne in dataTable :\n",
        "    tablePrenoms_2013_2018.append(ligne)\n",
        "\n",
        "# Lecture des données du fichier 'prenoms-des-enfants-nes-a-angers-2019.csv' et affectation à une variable temporaire 'dataTable'\n",
        "with open('prenoms-des-enfants-nes-a-angers-2019.csv', newline='') as fichierCsv :\n",
        "  dataTable = csv.reader(fichierCsv, delimiter=',')\n",
        "  # boucle bornée : affectation des valeurs de la variable temporaire 'dataTable' à la variable 'tablePrenoms_2019'\n",
        "  for ligne in dataTable :\n",
        "    tablePrenoms_2019.append(ligne)\n",
        "\n",
        "# Fusion des deux tables. Ajout des enregistrements d'une table à la fin de l'autre table avec la méthode 'append()'\n",
        "for ligne in tablePrenoms_2019 :\n",
        "  tablePrenoms_2013_2018.append(ligne)\n",
        "\n",
        "# Script de contrôle... \n",
        "print(\"\\n Contrôle n°2 \\n\")\n",
        "for k in range(1,len(tablePrenoms_2013_2019)):\n",
        "  if tablePrenoms_2013_2019[k][3] == prenom :\n",
        "    print(tablePrenoms_2013_2019[k])"
      ],
      "execution_count": 0,
      "outputs": []
    },
    {
      "cell_type": "markdown",
      "metadata": {
        "id": "G_veCjgwbpgx",
        "colab_type": "text"
      },
      "source": [
        "**En quoi est-elle plus \"optimisée\" que la première ?**"
      ]
    },
    {
      "cell_type": "markdown",
      "metadata": {
        "id": "HKTp_WOy2VQr",
        "colab_type": "text"
      },
      "source": [
        "*Ecrivez votre réponse ici*"
      ]
    },
    {
      "cell_type": "markdown",
      "metadata": {
        "id": "6GR4mqJ3ca1t",
        "colab_type": "text"
      },
      "source": [
        "#### C - Est-il possible d'optimiser encore ce code sur le même principe ?"
      ]
    },
    {
      "cell_type": "code",
      "metadata": {
        "id": "u2P-tvi6ct-X",
        "colab_type": "code",
        "colab": {}
      },
      "source": [
        "# Déclaration d'une variable : nommage, typage\n",
        "tablePrenoms_2013_2019=[]\n",
        "\n",
        "# Lecture des données du fichier 'prenoms-des-enfants-nes-a-angers-2013-2018.csv' et affectation à une variable temporaire 'dataTable'\n",
        "with open('prenoms-des-enfants-nes-a-angers-2013-2018.csv', newline='') as fichierCsv :\n",
        "  dataTable = csv.reader(fichierCsv, delimiter=',')\n",
        "  # boucle bornée : affectation des valeurs de la variable temporaire 'dataTable' à la variable 'tablePrenoms_2013_2019'\n",
        "  for ligne in dataTable :\n",
        "    tablePrenoms_2013_2019.append(ligne)\n",
        "\n",
        "# Lecture des données du fichier 'prenoms-des-enfants-nes-a-angers-2019.csv' et affectation à une variable temporaire 'dataTable'\n",
        "with open('prenoms-des-enfants-nes-a-angers-2019.csv', newline='') as fichierCsv :\n",
        "  dataTable = csv.reader(fichierCsv, delimiter=',')\n",
        "  # boucle bornée : affectation des valeurs de la variable temporaire 'dataTable' à la variable 'tablePrenoms_2013_2019'\n",
        "  for ligne in dataTable :\n",
        "    tablePrenoms_2013_2019.append(ligne)\n",
        "\n",
        "# Script de contrôle... \n",
        "print(\"\\n Contrôle n°3 \\n\")\n",
        "for k in range(1,len(tablePrenoms_2013_2019)):\n",
        "  if tablePrenoms_2013_2019[k][3] == prenom :\n",
        "    print(tablePrenoms_2013_2019[k])"
      ],
      "execution_count": 0,
      "outputs": []
    },
    {
      "cell_type": "markdown",
      "metadata": {
        "id": "BZ-zi_HH2uLK",
        "colab_type": "text"
      },
      "source": [
        "#### **Ecrivez une conclusion : de quelle façon est-il possible de réduire la complexité d'un algorithme ?**"
      ]
    },
    {
      "cell_type": "markdown",
      "metadata": {
        "id": "ShDJXzr_27z5",
        "colab_type": "text"
      },
      "source": [
        "*Ecrivez votre réponse ici*"
      ]
    },
    {
      "cell_type": "markdown",
      "metadata": {
        "id": "l48OUnRh30cM",
        "colab_type": "text"
      },
      "source": [
        "### Modularité d'un algorithme"
      ]
    },
    {
      "cell_type": "markdown",
      "metadata": {
        "id": "q2r2L1554B5z",
        "colab_type": "text"
      },
      "source": [
        "#### Examinez les algorithmes qui suivent et comparez les entre eux."
      ]
    },
    {
      "cell_type": "code",
      "metadata": {
        "id": "uX-o62vO4I_7",
        "colab_type": "code",
        "colab": {}
      },
      "source": [
        "# ALGORITHME 1\n",
        "# ============\n",
        "# Déclaration de variables : nommage, typage\n",
        "listeFichiersCsv=['prenoms-des-enfants-nes-a-angers-2013-2018.csv','prenoms-des-enfants-nes-a-angers-2019.csv']\n",
        "tablePrenoms_2013_2019=[]\n",
        "\n",
        "# Déclaration d'une fonction\n",
        "def LectureCsv(nomFichierCsv):\n",
        "    # Déclaration d'une' variable locale : nommage, typage\n",
        "    table=[]\n",
        "    # Lecture des données du fichier 'nomFichierCsv' et affectation à une variable temporaire 'dataTable'\n",
        "    with open(nomFichierCsv, newline='') as fichierCsv :\n",
        "        dataTable = csv.reader(fichierCsv, delimiter=',')\n",
        "        # boucle bornée : affectation des valeurs de la variable temporaire 'dataTable' à la variable 'table'\n",
        "        for ligne in dataTable :\n",
        "            table.append(ligne)\n",
        "    # Renvoi du résultat\n",
        "    return table\n",
        "\n",
        "# PROGRAMME PRINCIPAL : fusion de tables par concaténation\n",
        "for fichierCsv in listeFichiersCsv :\n",
        "  tablePrenoms_2013_2019 = tablePrenoms_2013_2019 + LectureCsv(fichierCsv)\n",
        "\n",
        "# Script de contrôle... \n",
        "print(\"\\n Contrôle n°4 \\n\")\n",
        "for k in range(1,len(tablePrenoms_2013_2019)):\n",
        "  if tablePrenoms_2013_2019[k][3] == prenom :\n",
        "    print(tablePrenoms_2013_2019[k])"
      ],
      "execution_count": 0,
      "outputs": []
    },
    {
      "cell_type": "code",
      "metadata": {
        "colab_type": "code",
        "id": "biuweair60FJ",
        "colab": {}
      },
      "source": [
        "# ALGORITHME 2\n",
        "# ============\n",
        "# Déclaration de variables : nommage, typage\n",
        "listeFichiersCsv=['prenoms-des-enfants-nes-a-angers-2013-2018.csv','prenoms-des-enfants-nes-a-angers-2019.csv']\n",
        "tablePrenoms_2013_2019=[]\n",
        "\n",
        "# Déclaration de fonctions\n",
        "\n",
        "def LectureCsv(nomFichierCsv):\n",
        "    # Déclaration d'une' variable locale : nommage, typage\n",
        "    table=[]\n",
        "    # Lecture des données du fichier 'nomFichierCsv' et affectation à une variable temporaire 'dataTable'\n",
        "    with open(nomFichierCsv, newline='') as fichierCsv :\n",
        "        dataTable = csv.reader(fichierCsv, delimiter=',')\n",
        "        # boucle bornée : affectation des valeurs de la variable temporaire 'dataTable' à la variable 'table'\n",
        "        for ligne in dataTable :\n",
        "            table.append(ligne)\n",
        "    # Renvoi du résultat\n",
        "    return table\n",
        "\n",
        "def tablesFusionConcat(listeFichiersCsv):\n",
        "  table=[]\n",
        "  for fichierCsv in listeFichiersCsv :\n",
        "    table = table + LectureCsv(fichierCsv)\n",
        "  return table\n",
        "\n",
        "# PROGRAMME PRINCIPAL : fusion de tables par concaténation\n",
        "tablePrenoms_2013_2019=tablesFusionConcat(listeFichiersCsv)\n",
        "\n",
        "# Script de contrôle... \n",
        "print(\"\\n Contrôle n°5 \\n\")\n",
        "for k in range(1,len(tablePrenoms_2013_2019)):\n",
        "  if tablePrenoms_2013_2019[k][3] == prenom :\n",
        "    print(tablePrenoms_2013_2019[k])"
      ],
      "execution_count": 0,
      "outputs": []
    },
    {
      "cell_type": "markdown",
      "metadata": {
        "id": "ur3c5OEM9PO9",
        "colab_type": "text"
      },
      "source": [
        "*Notez vos constats ici*"
      ]
    },
    {
      "cell_type": "markdown",
      "metadata": {
        "id": "yROlPidN9ePT",
        "colab_type": "text"
      },
      "source": [
        "#### **Ecrivez une conclusion : en quoi consiste la modularisation d'un algorithme ? Quels sont les avantages de l'écriture de modules ?**"
      ]
    },
    {
      "cell_type": "markdown",
      "metadata": {
        "id": "4IAzA9AC911c",
        "colab_type": "text"
      },
      "source": [
        "*Ecrivez votre conclusion ici*"
      ]
    }
  ]
}